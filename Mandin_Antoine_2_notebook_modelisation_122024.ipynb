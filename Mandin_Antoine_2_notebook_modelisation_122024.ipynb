version https://git-lfs.github.com/spec/v1
oid sha256:ccbb5a9d5bd2877e38cab359de9c47bf41afaa893c0a481ee2860aef80999da0
size 920610
